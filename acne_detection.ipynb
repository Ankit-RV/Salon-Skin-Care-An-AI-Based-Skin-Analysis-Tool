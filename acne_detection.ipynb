{
  "nbformat": 4,
  "nbformat_minor": 0,
  "metadata": {
    "colab": {
      "provenance": []
    },
    "kernelspec": {
      "name": "python3",
      "display_name": "Python 3"
    },
    "language_info": {
      "name": "python"
    }
  },
  "cells": [
    {
      "cell_type": "markdown",
      "source": [
        "#Machine Learning Model for Acne Detection\n"
      ],
      "metadata": {
        "id": "SDquswhp5bqj"
      }
    },
    {
      "cell_type": "markdown",
      "source": [
        "Step1: Import necessary libraries: First, I import the required libraries. Tensorflow is a popular deep learning library, and Keras is a high-level neural networks API that runs on top of TensorFlow. I also import other libraries like ImageDataGenerator, matplotlib.pyplot, and os."
      ],
      "metadata": {
        "id": "DkthVyLo5o5p"
      }
    },
    {
      "cell_type": "code",
      "execution_count": null,
      "metadata": {
        "id": "o6K0qy6vFjWV"
      },
      "outputs": [],
      "source": [
        "import tensorflow as tf\n",
        "from tensorflow.keras.preprocessing.image import ImageDataGenerator\n",
        "import matplotlib.pyplot as plt\n",
        "import os"
      ]
    },
    {
      "cell_type": "markdown",
      "source": [
        "Step2: Mount Google Drive: Mount Google Drive to access the dataset files."
      ],
      "metadata": {
        "id": "uxHqi6Z86ISu"
      }
    },
    {
      "cell_type": "code",
      "source": [
        "from google.colab import drive\n",
        "drive.mount('/content/drive')"
      ],
      "metadata": {
        "colab": {
          "base_uri": "https://localhost:8080/"
        },
        "id": "wFbxRVE3Fl5d",
        "outputId": "866288ce-6034-4ac7-f636-2f2906378350"
      },
      "execution_count": null,
      "outputs": [
        {
          "output_type": "stream",
          "name": "stdout",
          "text": [
            "Mounted at /content/drive\n"
          ]
        }
      ]
    },
    {
      "cell_type": "markdown",
      "source": [
        "Step3: Set the path for the dataset: Define the path for the training, validation, and test datasets.\n",
        "\n",
        "And\n",
        "\n",
        "Step4: Set the image dimensions and batch size: Set the image dimensions to 224x224 and the batch size to 32. The image dimensions are important because the Convolutional Neural Network (CNN) layers require the input images to have the same dimensions.\n"
      ],
      "metadata": {
        "id": "rSffisKX6VnP"
      }
    },
    {
      "cell_type": "code",
      "source": [
        "train_data_dir = '/content/drive/My Drive/acne_dataset'\n",
        "validation_data_dir = '/content/drive/My Drive/acne_dataset'\n",
        "test_data_dir = '/content/drive/My Drive/acne_dataset'\n",
        "\n",
        "\n",
        "img_width, img_height = 224, 224\n",
        "batch_size = 32\n",
        "\n",
        "train_datagen = ImageDataGenerator(\n",
        "        rescale=1./255,\n",
        "        shear_range=0.2,\n",
        "        zoom_range=0.2,\n",
        "        horizontal_flip=True)\n",
        "\n",
        "validation_datagen = ImageDataGenerator(rescale=1./255)\n",
        "\n",
        "test_datagen = ImageDataGenerator(rescale=1./255)\n",
        "\n",
        "train_generator = train_datagen.flow_from_directory(\n",
        "        train_data_dir,\n",
        "        target_size=(img_width, img_height),\n",
        "        batch_size=batch_size,\n",
        "        class_mode='binary')\n",
        "\n",
        "validation_generator = validation_datagen.flow_from_directory(\n",
        "        validation_data_dir,\n",
        "        target_size=(img_width, img_height),\n",
        "        batch_size=batch_size,\n",
        "        class_mode='binary')\n",
        "\n",
        "test_generator = test_datagen.flow_from_directory(\n",
        "        test_data_dir,\n",
        "        target_size=(img_width, img_height),\n",
        "        batch_size=batch_size,\n",
        "        class_mode='binary')\n"
      ],
      "metadata": {
        "colab": {
          "base_uri": "https://localhost:8080/"
        },
        "id": "1Er5vmH1FwFQ",
        "outputId": "8ac6389b-e629-4e65-a836-3a8dd0eecc66"
      },
      "execution_count": null,
      "outputs": [
        {
          "output_type": "stream",
          "name": "stdout",
          "text": [
            "Found 502 images belonging to 3 classes.\n",
            "Found 502 images belonging to 3 classes.\n",
            "Found 502 images belonging to 3 classes.\n"
          ]
        }
      ]
    },
    {
      "cell_type": "markdown",
      "source": [
        "\n",
        "Step5: Define the CNN model: We create a sequential model using the Keras Sequential API. The model has three convolutional layers with max-pooling layers in between, followed by a flatten layer and two fully connected layers. The final output layer has a sigmoid activation function because we are doing binary classification."
      ],
      "metadata": {
        "id": "JX3tq5km6rOB"
      }
    },
    {
      "cell_type": "code",
      "source": [
        "# Define the model architecture\n",
        "model = tf.keras.models.Sequential([\n",
        "    tf.keras.layers.Conv2D(32, (3, 3), activation='relu', input_shape=(img_width, img_height, 3)),\n",
        "    tf.keras.layers.MaxPooling2D((2, 2)),\n",
        "    tf.keras.layers.Conv2D(64, (3, 3), activation='relu'),\n",
        "    tf.keras.layers.MaxPooling2D((2, 2)),\n",
        "    tf.keras.layers.Conv2D(128, (3, 3), activation='relu'),\n",
        "    tf.keras.layers.MaxPooling2D((2, 2)),\n",
        "    tf.keras.layers.Flatten(),\n",
        "    tf.keras.layers.Dense(128, activation='relu'),\n",
        "    tf.keras.layers.Dense(1, activation='sigmoid')\n",
        "])"
      ],
      "metadata": {
        "id": "cRikdZ8VGSdf"
      },
      "execution_count": null,
      "outputs": []
    },
    {
      "cell_type": "markdown",
      "source": [
        "Step6: Compile the model: Compile the model by specifying the loss function, optimizer, and evaluation metric. Use the binary_crossentropy loss function because it is suitable for binary classification problems. Use the RMSprop optimizer and accuracy metric."
      ],
      "metadata": {
        "id": "ONSi3LlW_lFm"
      }
    },
    {
      "cell_type": "code",
      "source": [
        "# Compile the model\n",
        "model.compile(loss='binary_crossentropy',\n",
        "              optimizer=tf.keras.optimizers.RMSprop(lr=1e-4),\n",
        "              metrics=['accuracy'])\n"
      ],
      "metadata": {
        "colab": {
          "base_uri": "https://localhost:8080/"
        },
        "id": "46EC-vxQGvmL",
        "outputId": "1488a2f9-9353-4b49-d31d-22f15176f16d"
      },
      "execution_count": null,
      "outputs": [
        {
          "output_type": "stream",
          "name": "stderr",
          "text": [
            "WARNING:absl:`lr` is deprecated in Keras optimizer, please use `learning_rate` or use the legacy optimizer, e.g.,tf.keras.optimizers.legacy.RMSprop.\n"
          ]
        }
      ]
    },
    {
      "cell_type": "markdown",
      "source": [
        "Step7: Train the model: Train the model using the fit method of the model object. Pass the training and validation generators, the number of steps per epoch, the number of epochs, and the validation steps."
      ],
      "metadata": {
        "id": "eSYRwm-M_1I2"
      }
    },
    {
      "cell_type": "code",
      "source": [
        "# Train the model\n",
        "history = model.fit(\n",
        "        train_generator,\n",
        "        steps_per_epoch=train_generator.samples // batch_size,\n",
        "        epochs=50,\n",
        "        validation_data=validation_generator,\n",
        "        validation_steps=validation_generator.samples // batch_size)\n"
      ],
      "metadata": {
        "colab": {
          "base_uri": "https://localhost:8080/"
        },
        "id": "CSelgMFXG0pf",
        "outputId": "467573c7-2dd7-4055-dac7-dd89095c4370"
      },
      "execution_count": null,
      "outputs": [
        {
          "output_type": "stream",
          "name": "stdout",
          "text": [
            "Epoch 1/50\n",
            "15/15 [==============================] - 177s 12s/step - loss: 1.0804 - accuracy: 0.5043 - val_loss: 0.5393 - val_accuracy: 0.5063\n",
            "Epoch 2/50\n",
            "15/15 [==============================] - 78s 5s/step - loss: 0.4872 - accuracy: 0.5085 - val_loss: 0.3586 - val_accuracy: 0.5021\n",
            "Epoch 3/50\n",
            "15/15 [==============================] - 74s 5s/step - loss: 0.3724 - accuracy: 0.5085 - val_loss: 0.6371 - val_accuracy: 0.5000\n",
            "Epoch 4/50\n",
            "15/15 [==============================] - 81s 5s/step - loss: 0.3984 - accuracy: 0.5021 - val_loss: 0.4482 - val_accuracy: 0.5000\n",
            "Epoch 5/50\n",
            "15/15 [==============================] - 79s 5s/step - loss: 0.4345 - accuracy: 0.4957 - val_loss: 0.3373 - val_accuracy: 0.5146\n",
            "Epoch 6/50\n",
            "15/15 [==============================] - 81s 5s/step - loss: 0.4058 - accuracy: 0.5021 - val_loss: 0.3617 - val_accuracy: 0.4979\n",
            "Epoch 7/50\n",
            "15/15 [==============================] - 79s 5s/step - loss: 0.3903 - accuracy: 0.5064 - val_loss: 0.3652 - val_accuracy: 0.5042\n",
            "Epoch 8/50\n",
            "15/15 [==============================] - 80s 5s/step - loss: 0.4228 - accuracy: 0.4957 - val_loss: 0.3883 - val_accuracy: 0.5000\n",
            "Epoch 9/50\n",
            "15/15 [==============================] - 85s 6s/step - loss: 0.3873 - accuracy: 0.5043 - val_loss: 0.3399 - val_accuracy: 0.5104\n",
            "Epoch 10/50\n",
            "15/15 [==============================] - 78s 5s/step - loss: 0.3951 - accuracy: 0.5000 - val_loss: 0.3575 - val_accuracy: 0.5083\n",
            "Epoch 11/50\n",
            "15/15 [==============================] - 80s 5s/step - loss: 0.3910 - accuracy: 0.5064 - val_loss: 0.3630 - val_accuracy: 0.5083\n",
            "Epoch 12/50\n",
            "15/15 [==============================] - 77s 5s/step - loss: 0.3574 - accuracy: 0.5128 - val_loss: 0.4938 - val_accuracy: 0.5021\n",
            "Epoch 13/50\n",
            "15/15 [==============================] - 79s 5s/step - loss: 0.3537 - accuracy: 0.5128 - val_loss: 0.3273 - val_accuracy: 0.5063\n",
            "Epoch 14/50\n",
            "15/15 [==============================] - 78s 5s/step - loss: 0.4022 - accuracy: 0.5043 - val_loss: 0.3487 - val_accuracy: 0.5000\n",
            "Epoch 15/50\n",
            "15/15 [==============================] - 73s 5s/step - loss: 0.3805 - accuracy: 0.5021 - val_loss: 0.3357 - val_accuracy: 0.5063\n",
            "Epoch 16/50\n",
            "15/15 [==============================] - 85s 6s/step - loss: 0.3211 - accuracy: 0.5106 - val_loss: 0.3211 - val_accuracy: 0.5042\n",
            "Epoch 17/50\n",
            "15/15 [==============================] - 78s 5s/step - loss: 0.3674 - accuracy: 0.4957 - val_loss: 0.3328 - val_accuracy: 0.5083\n",
            "Epoch 18/50\n",
            "15/15 [==============================] - 80s 5s/step - loss: 0.3661 - accuracy: 0.5043 - val_loss: 0.3545 - val_accuracy: 0.5021\n",
            "Epoch 19/50\n",
            "15/15 [==============================] - 78s 5s/step - loss: 0.3580 - accuracy: 0.5043 - val_loss: 0.3626 - val_accuracy: 0.5104\n",
            "Epoch 20/50\n",
            "15/15 [==============================] - 80s 5s/step - loss: 0.3854 - accuracy: 0.5000 - val_loss: 0.3151 - val_accuracy: 0.5083\n",
            "Epoch 21/50\n",
            "15/15 [==============================] - 78s 5s/step - loss: 0.3769 - accuracy: 0.4936 - val_loss: 0.3599 - val_accuracy: 0.5104\n",
            "Epoch 22/50\n",
            "15/15 [==============================] - 79s 5s/step - loss: 0.4244 - accuracy: 0.5106 - val_loss: 0.3471 - val_accuracy: 0.5104\n",
            "Epoch 23/50\n",
            "15/15 [==============================] - 78s 5s/step - loss: 0.3846 - accuracy: 0.5000 - val_loss: 0.3604 - val_accuracy: 0.5063\n",
            "Epoch 24/50\n",
            "15/15 [==============================] - 75s 5s/step - loss: 0.3703 - accuracy: 0.5064 - val_loss: 0.3626 - val_accuracy: 0.5021\n",
            "Epoch 25/50\n",
            "15/15 [==============================] - 78s 5s/step - loss: 0.3297 - accuracy: 0.5128 - val_loss: 0.3584 - val_accuracy: 0.5000\n",
            "Epoch 26/50\n",
            "15/15 [==============================] - 80s 5s/step - loss: 0.3511 - accuracy: 0.5128 - val_loss: 0.3556 - val_accuracy: 0.5021\n",
            "Epoch 27/50\n",
            "15/15 [==============================] - 76s 5s/step - loss: 0.3636 - accuracy: 0.4936 - val_loss: 0.3391 - val_accuracy: 0.5188\n",
            "Epoch 28/50\n",
            "15/15 [==============================] - 80s 5s/step - loss: 0.3589 - accuracy: 0.5085 - val_loss: 0.4283 - val_accuracy: 0.5042\n",
            "Epoch 29/50\n",
            "15/15 [==============================] - 77s 5s/step - loss: 0.3461 - accuracy: 0.5021 - val_loss: 0.3270 - val_accuracy: 0.5104\n",
            "Epoch 30/50\n",
            "15/15 [==============================] - 78s 5s/step - loss: 0.3364 - accuracy: 0.5021 - val_loss: 0.3525 - val_accuracy: 0.5083\n",
            "Epoch 31/50\n",
            "15/15 [==============================] - 78s 5s/step - loss: 0.3152 - accuracy: 0.5128 - val_loss: 0.3122 - val_accuracy: 0.5063\n",
            "Epoch 32/50\n",
            "15/15 [==============================] - 78s 5s/step - loss: 0.3313 - accuracy: 0.5064 - val_loss: 0.3364 - val_accuracy: 0.5042\n",
            "Epoch 33/50\n",
            "15/15 [==============================] - 74s 5s/step - loss: 0.3604 - accuracy: 0.5021 - val_loss: 0.3028 - val_accuracy: 0.5125\n",
            "Epoch 34/50\n",
            "15/15 [==============================] - 78s 5s/step - loss: 0.3867 - accuracy: 0.5064 - val_loss: 0.3291 - val_accuracy: 0.5021\n",
            "Epoch 35/50\n",
            "15/15 [==============================] - 78s 5s/step - loss: 0.3789 - accuracy: 0.5043 - val_loss: 0.3321 - val_accuracy: 0.5021\n",
            "Epoch 36/50\n",
            "15/15 [==============================] - 78s 5s/step - loss: 0.3220 - accuracy: 0.5106 - val_loss: 0.3914 - val_accuracy: 0.5063\n",
            "Epoch 37/50\n",
            "15/15 [==============================] - 75s 5s/step - loss: 0.3557 - accuracy: 0.5064 - val_loss: 0.2907 - val_accuracy: 0.5063\n",
            "Epoch 38/50\n",
            "15/15 [==============================] - 78s 5s/step - loss: 0.3789 - accuracy: 0.5064 - val_loss: 0.3103 - val_accuracy: 0.5104\n",
            "Epoch 39/50\n",
            "15/15 [==============================] - 75s 5s/step - loss: 0.3089 - accuracy: 0.5128 - val_loss: 0.3312 - val_accuracy: 0.4979\n",
            "Epoch 40/50\n",
            "15/15 [==============================] - 78s 5s/step - loss: 0.3622 - accuracy: 0.5043 - val_loss: 0.3150 - val_accuracy: 0.5083\n",
            "Epoch 41/50\n",
            "15/15 [==============================] - 78s 5s/step - loss: 0.3136 - accuracy: 0.5106 - val_loss: 0.3510 - val_accuracy: 0.5083\n",
            "Epoch 42/50\n",
            "15/15 [==============================] - 73s 5s/step - loss: 0.3716 - accuracy: 0.4979 - val_loss: 0.3253 - val_accuracy: 0.5104\n",
            "Epoch 43/50\n",
            "15/15 [==============================] - 78s 5s/step - loss: 0.3171 - accuracy: 0.5021 - val_loss: 0.3304 - val_accuracy: 0.5063\n",
            "Epoch 44/50\n",
            "15/15 [==============================] - 78s 5s/step - loss: 0.3298 - accuracy: 0.4979 - val_loss: 0.3085 - val_accuracy: 0.5146\n",
            "Epoch 45/50\n",
            "15/15 [==============================] - 75s 5s/step - loss: 0.3769 - accuracy: 0.4979 - val_loss: 0.3023 - val_accuracy: 0.5063\n",
            "Epoch 46/50\n",
            "15/15 [==============================] - 72s 5s/step - loss: 0.3295 - accuracy: 0.5000 - val_loss: 0.3234 - val_accuracy: 0.4979\n",
            "Epoch 47/50\n",
            "15/15 [==============================] - 76s 5s/step - loss: 0.3132 - accuracy: 0.5064 - val_loss: 0.2859 - val_accuracy: 0.5042\n",
            "Epoch 48/50\n",
            "15/15 [==============================] - 78s 5s/step - loss: 0.3302 - accuracy: 0.5000 - val_loss: 0.3131 - val_accuracy: 0.5083\n",
            "Epoch 49/50\n",
            "15/15 [==============================] - 74s 5s/step - loss: 0.3372 - accuracy: 0.5043 - val_loss: 0.2759 - val_accuracy: 0.5021\n",
            "Epoch 50/50\n",
            "15/15 [==============================] - 73s 5s/step - loss: 0.3033 - accuracy: 0.5106 - val_loss: 0.2814 - val_accuracy: 0.5063\n"
          ]
        }
      ]
    },
    {
      "cell_type": "markdown",
      "source": [
        "Step8: Evaluate the model: Evaluate the model on the test dataset using the evaluate method of the model object. Print the test loss and accuracy."
      ],
      "metadata": {
        "id": "KhZX_xvmAKOz"
      }
    },
    {
      "cell_type": "code",
      "source": [
        "# Evaluate the model on the test dataset\n",
        "test_loss, test_acc = model.evaluate(test_generator, steps=test_generator.samples // batch_size)\n",
        "print('Test loss:', test_loss)\n",
        "print('Test accuracy:', test_acc)"
      ],
      "metadata": {
        "colab": {
          "base_uri": "https://localhost:8080/"
        },
        "id": "-qbjiBgubwm7",
        "outputId": "b589ebb7-f056-48d5-812a-2a2e7c7f1b97"
      },
      "execution_count": null,
      "outputs": [
        {
          "output_type": "stream",
          "name": "stdout",
          "text": [
            "15/15 [==============================] - 17s 1s/step - loss: 0.2760 - accuracy: 0.5083\n",
            "Test loss: 0.27604350447654724\n",
            "Test accuracy: 0.5083333253860474\n"
          ]
        }
      ]
    },
    {
      "cell_type": "markdown",
      "source": [
        "Make predictions: Use the uploaded image to make a prediction on whether it contains acne or not. Use OpenCV library to read and resize the uploaded image. Preprocess the image by scaling its pixel values and expanding its dimensions. Then use the predict method of the model object to make a prediction. Finally, print the prediction result."
      ],
      "metadata": {
        "id": "sTmqXRRiAmAu"
      }
    },
    {
      "cell_type": "code",
      "source": [
        "# Allow user to upload an image to test the model's prediction\n",
        "from google.colab import files\n",
        "\n",
        "uploaded = files.upload()"
      ],
      "metadata": {
        "colab": {
          "base_uri": "https://localhost:8080/",
          "height": 73
        },
        "id": "BByS1WWFdMxO",
        "outputId": "637271eb-0256-4459-bde2-51bb57c7e8ba"
      },
      "execution_count": null,
      "outputs": [
        {
          "output_type": "display_data",
          "data": {
            "text/plain": [
              "<IPython.core.display.HTML object>"
            ],
            "text/html": [
              "\n",
              "     <input type=\"file\" id=\"files-b6c5553e-725d-4d4c-ae12-e2730f4728e7\" name=\"files[]\" multiple disabled\n",
              "        style=\"border:none\" />\n",
              "     <output id=\"result-b6c5553e-725d-4d4c-ae12-e2730f4728e7\">\n",
              "      Upload widget is only available when the cell has been executed in the\n",
              "      current browser session. Please rerun this cell to enable.\n",
              "      </output>\n",
              "      <script>// Copyright 2017 Google LLC\n",
              "//\n",
              "// Licensed under the Apache License, Version 2.0 (the \"License\");\n",
              "// you may not use this file except in compliance with the License.\n",
              "// You may obtain a copy of the License at\n",
              "//\n",
              "//      http://www.apache.org/licenses/LICENSE-2.0\n",
              "//\n",
              "// Unless required by applicable law or agreed to in writing, software\n",
              "// distributed under the License is distributed on an \"AS IS\" BASIS,\n",
              "// WITHOUT WARRANTIES OR CONDITIONS OF ANY KIND, either express or implied.\n",
              "// See the License for the specific language governing permissions and\n",
              "// limitations under the License.\n",
              "\n",
              "/**\n",
              " * @fileoverview Helpers for google.colab Python module.\n",
              " */\n",
              "(function(scope) {\n",
              "function span(text, styleAttributes = {}) {\n",
              "  const element = document.createElement('span');\n",
              "  element.textContent = text;\n",
              "  for (const key of Object.keys(styleAttributes)) {\n",
              "    element.style[key] = styleAttributes[key];\n",
              "  }\n",
              "  return element;\n",
              "}\n",
              "\n",
              "// Max number of bytes which will be uploaded at a time.\n",
              "const MAX_PAYLOAD_SIZE = 100 * 1024;\n",
              "\n",
              "function _uploadFiles(inputId, outputId) {\n",
              "  const steps = uploadFilesStep(inputId, outputId);\n",
              "  const outputElement = document.getElementById(outputId);\n",
              "  // Cache steps on the outputElement to make it available for the next call\n",
              "  // to uploadFilesContinue from Python.\n",
              "  outputElement.steps = steps;\n",
              "\n",
              "  return _uploadFilesContinue(outputId);\n",
              "}\n",
              "\n",
              "// This is roughly an async generator (not supported in the browser yet),\n",
              "// where there are multiple asynchronous steps and the Python side is going\n",
              "// to poll for completion of each step.\n",
              "// This uses a Promise to block the python side on completion of each step,\n",
              "// then passes the result of the previous step as the input to the next step.\n",
              "function _uploadFilesContinue(outputId) {\n",
              "  const outputElement = document.getElementById(outputId);\n",
              "  const steps = outputElement.steps;\n",
              "\n",
              "  const next = steps.next(outputElement.lastPromiseValue);\n",
              "  return Promise.resolve(next.value.promise).then((value) => {\n",
              "    // Cache the last promise value to make it available to the next\n",
              "    // step of the generator.\n",
              "    outputElement.lastPromiseValue = value;\n",
              "    return next.value.response;\n",
              "  });\n",
              "}\n",
              "\n",
              "/**\n",
              " * Generator function which is called between each async step of the upload\n",
              " * process.\n",
              " * @param {string} inputId Element ID of the input file picker element.\n",
              " * @param {string} outputId Element ID of the output display.\n",
              " * @return {!Iterable<!Object>} Iterable of next steps.\n",
              " */\n",
              "function* uploadFilesStep(inputId, outputId) {\n",
              "  const inputElement = document.getElementById(inputId);\n",
              "  inputElement.disabled = false;\n",
              "\n",
              "  const outputElement = document.getElementById(outputId);\n",
              "  outputElement.innerHTML = '';\n",
              "\n",
              "  const pickedPromise = new Promise((resolve) => {\n",
              "    inputElement.addEventListener('change', (e) => {\n",
              "      resolve(e.target.files);\n",
              "    });\n",
              "  });\n",
              "\n",
              "  const cancel = document.createElement('button');\n",
              "  inputElement.parentElement.appendChild(cancel);\n",
              "  cancel.textContent = 'Cancel upload';\n",
              "  const cancelPromise = new Promise((resolve) => {\n",
              "    cancel.onclick = () => {\n",
              "      resolve(null);\n",
              "    };\n",
              "  });\n",
              "\n",
              "  // Wait for the user to pick the files.\n",
              "  const files = yield {\n",
              "    promise: Promise.race([pickedPromise, cancelPromise]),\n",
              "    response: {\n",
              "      action: 'starting',\n",
              "    }\n",
              "  };\n",
              "\n",
              "  cancel.remove();\n",
              "\n",
              "  // Disable the input element since further picks are not allowed.\n",
              "  inputElement.disabled = true;\n",
              "\n",
              "  if (!files) {\n",
              "    return {\n",
              "      response: {\n",
              "        action: 'complete',\n",
              "      }\n",
              "    };\n",
              "  }\n",
              "\n",
              "  for (const file of files) {\n",
              "    const li = document.createElement('li');\n",
              "    li.append(span(file.name, {fontWeight: 'bold'}));\n",
              "    li.append(span(\n",
              "        `(${file.type || 'n/a'}) - ${file.size} bytes, ` +\n",
              "        `last modified: ${\n",
              "            file.lastModifiedDate ? file.lastModifiedDate.toLocaleDateString() :\n",
              "                                    'n/a'} - `));\n",
              "    const percent = span('0% done');\n",
              "    li.appendChild(percent);\n",
              "\n",
              "    outputElement.appendChild(li);\n",
              "\n",
              "    const fileDataPromise = new Promise((resolve) => {\n",
              "      const reader = new FileReader();\n",
              "      reader.onload = (e) => {\n",
              "        resolve(e.target.result);\n",
              "      };\n",
              "      reader.readAsArrayBuffer(file);\n",
              "    });\n",
              "    // Wait for the data to be ready.\n",
              "    let fileData = yield {\n",
              "      promise: fileDataPromise,\n",
              "      response: {\n",
              "        action: 'continue',\n",
              "      }\n",
              "    };\n",
              "\n",
              "    // Use a chunked sending to avoid message size limits. See b/62115660.\n",
              "    let position = 0;\n",
              "    do {\n",
              "      const length = Math.min(fileData.byteLength - position, MAX_PAYLOAD_SIZE);\n",
              "      const chunk = new Uint8Array(fileData, position, length);\n",
              "      position += length;\n",
              "\n",
              "      const base64 = btoa(String.fromCharCode.apply(null, chunk));\n",
              "      yield {\n",
              "        response: {\n",
              "          action: 'append',\n",
              "          file: file.name,\n",
              "          data: base64,\n",
              "        },\n",
              "      };\n",
              "\n",
              "      let percentDone = fileData.byteLength === 0 ?\n",
              "          100 :\n",
              "          Math.round((position / fileData.byteLength) * 100);\n",
              "      percent.textContent = `${percentDone}% done`;\n",
              "\n",
              "    } while (position < fileData.byteLength);\n",
              "  }\n",
              "\n",
              "  // All done.\n",
              "  yield {\n",
              "    response: {\n",
              "      action: 'complete',\n",
              "    }\n",
              "  };\n",
              "}\n",
              "\n",
              "scope.google = scope.google || {};\n",
              "scope.google.colab = scope.google.colab || {};\n",
              "scope.google.colab._files = {\n",
              "  _uploadFiles,\n",
              "  _uploadFilesContinue,\n",
              "};\n",
              "})(self);\n",
              "</script> "
            ]
          },
          "metadata": {}
        },
        {
          "output_type": "stream",
          "name": "stdout",
          "text": [
            "Saving face1.jpg to face1.jpg\n"
          ]
        }
      ]
    },
    {
      "cell_type": "code",
      "source": [
        "# Make predictions on a test image uploaded by the user\n",
        "import numpy as np\n",
        "import cv2\n"
      ],
      "metadata": {
        "colab": {
          "base_uri": "https://localhost:8080/",
          "height": 73
        },
        "id": "OTUHrS-pbyBM",
        "outputId": "336600ce-6c7a-4697-ec30-0af183e69f89"
      },
      "execution_count": null,
      "outputs": [
        {
          "output_type": "display_data",
          "data": {
            "text/plain": [
              "<IPython.core.display.HTML object>"
            ],
            "text/html": [
              "\n",
              "     <input type=\"file\" id=\"files-24c050b9-8f09-4a0d-bcbd-096170d56450\" name=\"files[]\" multiple disabled\n",
              "        style=\"border:none\" />\n",
              "     <output id=\"result-24c050b9-8f09-4a0d-bcbd-096170d56450\">\n",
              "      Upload widget is only available when the cell has been executed in the\n",
              "      current browser session. Please rerun this cell to enable.\n",
              "      </output>\n",
              "      <script>// Copyright 2017 Google LLC\n",
              "//\n",
              "// Licensed under the Apache License, Version 2.0 (the \"License\");\n",
              "// you may not use this file except in compliance with the License.\n",
              "// You may obtain a copy of the License at\n",
              "//\n",
              "//      http://www.apache.org/licenses/LICENSE-2.0\n",
              "//\n",
              "// Unless required by applicable law or agreed to in writing, software\n",
              "// distributed under the License is distributed on an \"AS IS\" BASIS,\n",
              "// WITHOUT WARRANTIES OR CONDITIONS OF ANY KIND, either express or implied.\n",
              "// See the License for the specific language governing permissions and\n",
              "// limitations under the License.\n",
              "\n",
              "/**\n",
              " * @fileoverview Helpers for google.colab Python module.\n",
              " */\n",
              "(function(scope) {\n",
              "function span(text, styleAttributes = {}) {\n",
              "  const element = document.createElement('span');\n",
              "  element.textContent = text;\n",
              "  for (const key of Object.keys(styleAttributes)) {\n",
              "    element.style[key] = styleAttributes[key];\n",
              "  }\n",
              "  return element;\n",
              "}\n",
              "\n",
              "// Max number of bytes which will be uploaded at a time.\n",
              "const MAX_PAYLOAD_SIZE = 100 * 1024;\n",
              "\n",
              "function _uploadFiles(inputId, outputId) {\n",
              "  const steps = uploadFilesStep(inputId, outputId);\n",
              "  const outputElement = document.getElementById(outputId);\n",
              "  // Cache steps on the outputElement to make it available for the next call\n",
              "  // to uploadFilesContinue from Python.\n",
              "  outputElement.steps = steps;\n",
              "\n",
              "  return _uploadFilesContinue(outputId);\n",
              "}\n",
              "\n",
              "// This is roughly an async generator (not supported in the browser yet),\n",
              "// where there are multiple asynchronous steps and the Python side is going\n",
              "// to poll for completion of each step.\n",
              "// This uses a Promise to block the python side on completion of each step,\n",
              "// then passes the result of the previous step as the input to the next step.\n",
              "function _uploadFilesContinue(outputId) {\n",
              "  const outputElement = document.getElementById(outputId);\n",
              "  const steps = outputElement.steps;\n",
              "\n",
              "  const next = steps.next(outputElement.lastPromiseValue);\n",
              "  return Promise.resolve(next.value.promise).then((value) => {\n",
              "    // Cache the last promise value to make it available to the next\n",
              "    // step of the generator.\n",
              "    outputElement.lastPromiseValue = value;\n",
              "    return next.value.response;\n",
              "  });\n",
              "}\n",
              "\n",
              "/**\n",
              " * Generator function which is called between each async step of the upload\n",
              " * process.\n",
              " * @param {string} inputId Element ID of the input file picker element.\n",
              " * @param {string} outputId Element ID of the output display.\n",
              " * @return {!Iterable<!Object>} Iterable of next steps.\n",
              " */\n",
              "function* uploadFilesStep(inputId, outputId) {\n",
              "  const inputElement = document.getElementById(inputId);\n",
              "  inputElement.disabled = false;\n",
              "\n",
              "  const outputElement = document.getElementById(outputId);\n",
              "  outputElement.innerHTML = '';\n",
              "\n",
              "  const pickedPromise = new Promise((resolve) => {\n",
              "    inputElement.addEventListener('change', (e) => {\n",
              "      resolve(e.target.files);\n",
              "    });\n",
              "  });\n",
              "\n",
              "  const cancel = document.createElement('button');\n",
              "  inputElement.parentElement.appendChild(cancel);\n",
              "  cancel.textContent = 'Cancel upload';\n",
              "  const cancelPromise = new Promise((resolve) => {\n",
              "    cancel.onclick = () => {\n",
              "      resolve(null);\n",
              "    };\n",
              "  });\n",
              "\n",
              "  // Wait for the user to pick the files.\n",
              "  const files = yield {\n",
              "    promise: Promise.race([pickedPromise, cancelPromise]),\n",
              "    response: {\n",
              "      action: 'starting',\n",
              "    }\n",
              "  };\n",
              "\n",
              "  cancel.remove();\n",
              "\n",
              "  // Disable the input element since further picks are not allowed.\n",
              "  inputElement.disabled = true;\n",
              "\n",
              "  if (!files) {\n",
              "    return {\n",
              "      response: {\n",
              "        action: 'complete',\n",
              "      }\n",
              "    };\n",
              "  }\n",
              "\n",
              "  for (const file of files) {\n",
              "    const li = document.createElement('li');\n",
              "    li.append(span(file.name, {fontWeight: 'bold'}));\n",
              "    li.append(span(\n",
              "        `(${file.type || 'n/a'}) - ${file.size} bytes, ` +\n",
              "        `last modified: ${\n",
              "            file.lastModifiedDate ? file.lastModifiedDate.toLocaleDateString() :\n",
              "                                    'n/a'} - `));\n",
              "    const percent = span('0% done');\n",
              "    li.appendChild(percent);\n",
              "\n",
              "    outputElement.appendChild(li);\n",
              "\n",
              "    const fileDataPromise = new Promise((resolve) => {\n",
              "      const reader = new FileReader();\n",
              "      reader.onload = (e) => {\n",
              "        resolve(e.target.result);\n",
              "      };\n",
              "      reader.readAsArrayBuffer(file);\n",
              "    });\n",
              "    // Wait for the data to be ready.\n",
              "    let fileData = yield {\n",
              "      promise: fileDataPromise,\n",
              "      response: {\n",
              "        action: 'continue',\n",
              "      }\n",
              "    };\n",
              "\n",
              "    // Use a chunked sending to avoid message size limits. See b/62115660.\n",
              "    let position = 0;\n",
              "    do {\n",
              "      const length = Math.min(fileData.byteLength - position, MAX_PAYLOAD_SIZE);\n",
              "      const chunk = new Uint8Array(fileData, position, length);\n",
              "      position += length;\n",
              "\n",
              "      const base64 = btoa(String.fromCharCode.apply(null, chunk));\n",
              "      yield {\n",
              "        response: {\n",
              "          action: 'append',\n",
              "          file: file.name,\n",
              "          data: base64,\n",
              "        },\n",
              "      };\n",
              "\n",
              "      let percentDone = fileData.byteLength === 0 ?\n",
              "          100 :\n",
              "          Math.round((position / fileData.byteLength) * 100);\n",
              "      percent.textContent = `${percentDone}% done`;\n",
              "\n",
              "    } while (position < fileData.byteLength);\n",
              "  }\n",
              "\n",
              "  // All done.\n",
              "  yield {\n",
              "    response: {\n",
              "      action: 'complete',\n",
              "    }\n",
              "  };\n",
              "}\n",
              "\n",
              "scope.google = scope.google || {};\n",
              "scope.google.colab = scope.google.colab || {};\n",
              "scope.google.colab._files = {\n",
              "  _uploadFiles,\n",
              "  _uploadFilesContinue,\n",
              "};\n",
              "})(self);\n",
              "</script> "
            ]
          },
          "metadata": {}
        },
        {
          "output_type": "stream",
          "name": "stdout",
          "text": [
            "Saving face5.jpg to face5.jpg\n"
          ]
        }
      ]
    },
    {
      "cell_type": "code",
      "source": [
        "# Load the uploaded image\n",
        "for filename in uploaded.keys():\n",
        "    img = cv2.imdecode(np.frombuffer(uploaded['face1.jpg'], np.uint8), cv2.IMREAD_UNCHANGED)\n",
        "\n",
        "# Preprocess the input image\n",
        "img = cv2.resize(img, (img_width, img_height))\n",
        "img = img.astype('float32') / 255.0\n",
        "img = np.expand_dims(img, axis=0)"
      ],
      "metadata": {
        "id": "HgBCyKBfb9zM"
      },
      "execution_count": null,
      "outputs": []
    },
    {
      "cell_type": "code",
      "source": [
        "# Predict acne on the input image\n",
        "prediction = model.predict(img)\n",
        "\n",
        "# Display the prediction result\n",
        "if prediction[0][0] >= 0.5:\n",
        "    print('Acne detected in the input image.')\n",
        "else:\n",
        "    print('No acne detected in the input image.')"
      ],
      "metadata": {
        "colab": {
          "base_uri": "https://localhost:8080/"
        },
        "id": "VCzvYyRqcq7z",
        "outputId": "a75d7de1-136b-483f-ac13-37c4c16ddebc"
      },
      "execution_count": null,
      "outputs": [
        {
          "output_type": "stream",
          "name": "stdout",
          "text": [
            "1/1 [==============================] - 0s 49ms/step\n",
            "Acne detected in the input image.\n"
          ]
        }
      ]
    },
    {
      "cell_type": "code",
      "source": [
        "import numpy as np\n",
        "import cv2\n",
        "from google.colab import files\n",
        "\n",
        "uploaded = files.upload()\n",
        "\n",
        "\n"
      ],
      "metadata": {
        "colab": {
          "base_uri": "https://localhost:8080/",
          "height": 73
        },
        "id": "4SP2OoGgjoSv",
        "outputId": "9952ae5e-41bb-4610-c9db-225c99607338"
      },
      "execution_count": null,
      "outputs": [
        {
          "output_type": "display_data",
          "data": {
            "text/plain": [
              "<IPython.core.display.HTML object>"
            ],
            "text/html": [
              "\n",
              "     <input type=\"file\" id=\"files-78dfb130-dcdc-41c1-9d00-cabb78d4cff7\" name=\"files[]\" multiple disabled\n",
              "        style=\"border:none\" />\n",
              "     <output id=\"result-78dfb130-dcdc-41c1-9d00-cabb78d4cff7\">\n",
              "      Upload widget is only available when the cell has been executed in the\n",
              "      current browser session. Please rerun this cell to enable.\n",
              "      </output>\n",
              "      <script>// Copyright 2017 Google LLC\n",
              "//\n",
              "// Licensed under the Apache License, Version 2.0 (the \"License\");\n",
              "// you may not use this file except in compliance with the License.\n",
              "// You may obtain a copy of the License at\n",
              "//\n",
              "//      http://www.apache.org/licenses/LICENSE-2.0\n",
              "//\n",
              "// Unless required by applicable law or agreed to in writing, software\n",
              "// distributed under the License is distributed on an \"AS IS\" BASIS,\n",
              "// WITHOUT WARRANTIES OR CONDITIONS OF ANY KIND, either express or implied.\n",
              "// See the License for the specific language governing permissions and\n",
              "// limitations under the License.\n",
              "\n",
              "/**\n",
              " * @fileoverview Helpers for google.colab Python module.\n",
              " */\n",
              "(function(scope) {\n",
              "function span(text, styleAttributes = {}) {\n",
              "  const element = document.createElement('span');\n",
              "  element.textContent = text;\n",
              "  for (const key of Object.keys(styleAttributes)) {\n",
              "    element.style[key] = styleAttributes[key];\n",
              "  }\n",
              "  return element;\n",
              "}\n",
              "\n",
              "// Max number of bytes which will be uploaded at a time.\n",
              "const MAX_PAYLOAD_SIZE = 100 * 1024;\n",
              "\n",
              "function _uploadFiles(inputId, outputId) {\n",
              "  const steps = uploadFilesStep(inputId, outputId);\n",
              "  const outputElement = document.getElementById(outputId);\n",
              "  // Cache steps on the outputElement to make it available for the next call\n",
              "  // to uploadFilesContinue from Python.\n",
              "  outputElement.steps = steps;\n",
              "\n",
              "  return _uploadFilesContinue(outputId);\n",
              "}\n",
              "\n",
              "// This is roughly an async generator (not supported in the browser yet),\n",
              "// where there are multiple asynchronous steps and the Python side is going\n",
              "// to poll for completion of each step.\n",
              "// This uses a Promise to block the python side on completion of each step,\n",
              "// then passes the result of the previous step as the input to the next step.\n",
              "function _uploadFilesContinue(outputId) {\n",
              "  const outputElement = document.getElementById(outputId);\n",
              "  const steps = outputElement.steps;\n",
              "\n",
              "  const next = steps.next(outputElement.lastPromiseValue);\n",
              "  return Promise.resolve(next.value.promise).then((value) => {\n",
              "    // Cache the last promise value to make it available to the next\n",
              "    // step of the generator.\n",
              "    outputElement.lastPromiseValue = value;\n",
              "    return next.value.response;\n",
              "  });\n",
              "}\n",
              "\n",
              "/**\n",
              " * Generator function which is called between each async step of the upload\n",
              " * process.\n",
              " * @param {string} inputId Element ID of the input file picker element.\n",
              " * @param {string} outputId Element ID of the output display.\n",
              " * @return {!Iterable<!Object>} Iterable of next steps.\n",
              " */\n",
              "function* uploadFilesStep(inputId, outputId) {\n",
              "  const inputElement = document.getElementById(inputId);\n",
              "  inputElement.disabled = false;\n",
              "\n",
              "  const outputElement = document.getElementById(outputId);\n",
              "  outputElement.innerHTML = '';\n",
              "\n",
              "  const pickedPromise = new Promise((resolve) => {\n",
              "    inputElement.addEventListener('change', (e) => {\n",
              "      resolve(e.target.files);\n",
              "    });\n",
              "  });\n",
              "\n",
              "  const cancel = document.createElement('button');\n",
              "  inputElement.parentElement.appendChild(cancel);\n",
              "  cancel.textContent = 'Cancel upload';\n",
              "  const cancelPromise = new Promise((resolve) => {\n",
              "    cancel.onclick = () => {\n",
              "      resolve(null);\n",
              "    };\n",
              "  });\n",
              "\n",
              "  // Wait for the user to pick the files.\n",
              "  const files = yield {\n",
              "    promise: Promise.race([pickedPromise, cancelPromise]),\n",
              "    response: {\n",
              "      action: 'starting',\n",
              "    }\n",
              "  };\n",
              "\n",
              "  cancel.remove();\n",
              "\n",
              "  // Disable the input element since further picks are not allowed.\n",
              "  inputElement.disabled = true;\n",
              "\n",
              "  if (!files) {\n",
              "    return {\n",
              "      response: {\n",
              "        action: 'complete',\n",
              "      }\n",
              "    };\n",
              "  }\n",
              "\n",
              "  for (const file of files) {\n",
              "    const li = document.createElement('li');\n",
              "    li.append(span(file.name, {fontWeight: 'bold'}));\n",
              "    li.append(span(\n",
              "        `(${file.type || 'n/a'}) - ${file.size} bytes, ` +\n",
              "        `last modified: ${\n",
              "            file.lastModifiedDate ? file.lastModifiedDate.toLocaleDateString() :\n",
              "                                    'n/a'} - `));\n",
              "    const percent = span('0% done');\n",
              "    li.appendChild(percent);\n",
              "\n",
              "    outputElement.appendChild(li);\n",
              "\n",
              "    const fileDataPromise = new Promise((resolve) => {\n",
              "      const reader = new FileReader();\n",
              "      reader.onload = (e) => {\n",
              "        resolve(e.target.result);\n",
              "      };\n",
              "      reader.readAsArrayBuffer(file);\n",
              "    });\n",
              "    // Wait for the data to be ready.\n",
              "    let fileData = yield {\n",
              "      promise: fileDataPromise,\n",
              "      response: {\n",
              "        action: 'continue',\n",
              "      }\n",
              "    };\n",
              "\n",
              "    // Use a chunked sending to avoid message size limits. See b/62115660.\n",
              "    let position = 0;\n",
              "    do {\n",
              "      const length = Math.min(fileData.byteLength - position, MAX_PAYLOAD_SIZE);\n",
              "      const chunk = new Uint8Array(fileData, position, length);\n",
              "      position += length;\n",
              "\n",
              "      const base64 = btoa(String.fromCharCode.apply(null, chunk));\n",
              "      yield {\n",
              "        response: {\n",
              "          action: 'append',\n",
              "          file: file.name,\n",
              "          data: base64,\n",
              "        },\n",
              "      };\n",
              "\n",
              "      let percentDone = fileData.byteLength === 0 ?\n",
              "          100 :\n",
              "          Math.round((position / fileData.byteLength) * 100);\n",
              "      percent.textContent = `${percentDone}% done`;\n",
              "\n",
              "    } while (position < fileData.byteLength);\n",
              "  }\n",
              "\n",
              "  // All done.\n",
              "  yield {\n",
              "    response: {\n",
              "      action: 'complete',\n",
              "    }\n",
              "  };\n",
              "}\n",
              "\n",
              "scope.google = scope.google || {};\n",
              "scope.google.colab = scope.google.colab || {};\n",
              "scope.google.colab._files = {\n",
              "  _uploadFiles,\n",
              "  _uploadFilesContinue,\n",
              "};\n",
              "})(self);\n",
              "</script> "
            ]
          },
          "metadata": {}
        },
        {
          "output_type": "stream",
          "name": "stdout",
          "text": [
            "Saving face8.jpg to face8.jpg\n"
          ]
        }
      ]
    },
    {
      "cell_type": "code",
      "source": [
        "print(uploaded.keys())\n"
      ],
      "metadata": {
        "colab": {
          "base_uri": "https://localhost:8080/"
        },
        "id": "eJzB95FskYZF",
        "outputId": "1a6fd847-2d9c-4161-f238-eef751a1d296"
      },
      "execution_count": null,
      "outputs": [
        {
          "output_type": "stream",
          "name": "stdout",
          "text": [
            "dict_keys(['face8.jpg'])\n"
          ]
        }
      ]
    },
    {
      "cell_type": "code",
      "source": [
        "# Load the uploaded image\n",
        "for filename in uploaded.keys():\n",
        "    img = cv2.imdecode(np.frombuffer(uploaded['face8.jpg'], np.uint8), cv2.IMREAD_UNCHANGED)\n",
        "\n",
        "# Preprocess the input image\n",
        "img_resized = cv2.resize(img, (img_width, img_height))\n",
        "img_preprocessed = img_resized.astype('float32') / 255.0\n",
        "img_input = np.expand_dims(img_preprocessed, axis=0)\n",
        "\n"
      ],
      "metadata": {
        "id": "5rAC28Rkj2q9"
      },
      "execution_count": null,
      "outputs": []
    },
    {
      "cell_type": "code",
      "source": [
        "# Predict acne on the input image\n",
        "prediction = model.predict(img_input)\n",
        "\n",
        "# Draw bounding boxes around the acne\n",
        "if prediction[0][0] >= 0.5:\n",
        "    gray = cv2.cvtColor(img_resized, cv2.COLOR_BGR2GRAY)\n",
        "    blur = cv2.GaussianBlur(gray, (5, 5), 0)\n",
        "    canny = cv2.Canny(blur, 50, 150)\n",
        "    contours, _ = cv2.findContours(canny, cv2.RETR_TREE, cv2.CHAIN_APPROX_SIMPLE)\n",
        "\n",
        "    for contour in contours:\n",
        "        (x, y, w, h) = cv2.boundingRect(contour)\n",
        "        cv2.rectangle(img_resized, (x, y), (x + w, y + h), (0, 255, 0), 2)\n",
        "\n",
        "# Display the input image with detected acne\n",
        "from google.colab.patches import cv2_imshow\n",
        "cv2_imshow(img_resized)\n",
        "\n",
        "cv2.waitKey(0)\n",
        "cv2.destroyAllWindows()"
      ],
      "metadata": {
        "colab": {
          "base_uri": "https://localhost:8080/",
          "height": 258
        },
        "id": "FssIuojrj9AN",
        "outputId": "e7309af0-b211-4edb-a8e3-a925e368badc"
      },
      "execution_count": null,
      "outputs": [
        {
          "output_type": "stream",
          "name": "stdout",
          "text": [
            "1/1 [==============================] - 0s 51ms/step\n"
          ]
        },
        {
          "output_type": "display_data",
          "data": {
            "text/plain": [
              "<PIL.Image.Image image mode=RGB size=224x224 at 0x7FF0164A74F0>"
            ],
            "image/png": "[encoded data removed]"
          },
          "metadata": {}
        }
      ]
    },
    {
      "cell_type": "code",
      "source": [],
      "metadata": {
        "id": "GkWFGYj8lCf8"
      },
      "execution_count": null,
      "outputs": []
    }
  ]
}